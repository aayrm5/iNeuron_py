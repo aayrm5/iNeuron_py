{
 "metadata": {
  "language_info": {
   "codemirror_mode": {
    "name": "ipython",
    "version": 3
   },
   "file_extension": ".py",
   "mimetype": "text/x-python",
   "name": "python",
   "nbconvert_exporter": "python",
   "pygments_lexer": "ipython3",
   "version": "3.8.3-final"
  },
  "orig_nbformat": 2,
  "kernelspec": {
   "name": "python3",
   "display_name": "Python 3"
  }
 },
 "nbformat": 4,
 "nbformat_minor": 2,
 "cells": [
  {
   "source": [
    "#### Create the below pattern using nested for loop in Python."
   ],
   "cell_type": "markdown",
   "metadata": {}
  },
  {
   "cell_type": "code",
   "execution_count": 1,
   "metadata": {},
   "outputs": [],
   "source": [
    "def create_stars(n):\n",
    "    for i in range(1,5):\n",
    "        print('*'*i)\n",
    "    for j in range(n,0,-1):\n",
    "        print('*'*j)"
   ]
  },
  {
   "cell_type": "code",
   "execution_count": 2,
   "metadata": {},
   "outputs": [
    {
     "output_type": "stream",
     "name": "stdout",
     "text": [
      "*\n**\n***\n****\n*****\n****\n***\n**\n*\n"
     ]
    }
   ],
   "source": [
    "create_stars(5)"
   ]
  },
  {
   "source": [
    "#### Write a Python program to reverse a word after accepting the input from the user."
   ],
   "cell_type": "markdown",
   "metadata": {}
  },
  {
   "cell_type": "code",
   "execution_count": 3,
   "metadata": {},
   "outputs": [],
   "source": [
    "def rev_word():\n",
    "    word = input()\n",
    "    return word[::-1]"
   ]
  },
  {
   "cell_type": "code",
   "execution_count": 4,
   "metadata": {},
   "outputs": [
    {
     "output_type": "execute_result",
     "data": {
      "text/plain": [
       "'zayiR'"
      ]
     },
     "metadata": {},
     "execution_count": 4
    }
   ],
   "source": [
    "rev_word()"
   ]
  },
  {
   "source": [
    "#### The End"
   ],
   "cell_type": "markdown",
   "metadata": {}
  }
 ]
}