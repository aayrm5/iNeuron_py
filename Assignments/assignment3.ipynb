{
 "metadata": {
  "language_info": {
   "codemirror_mode": {
    "name": "ipython",
    "version": 3
   },
   "file_extension": ".py",
   "mimetype": "text/x-python",
   "name": "python",
   "nbconvert_exporter": "python",
   "pygments_lexer": "ipython3",
   "version": "3.8.3-final"
  },
  "orig_nbformat": 2,
  "kernelspec": {
   "name": "python3",
   "display_name": "Python 3",
   "language": "python"
  }
 },
 "nbformat": 4,
 "nbformat_minor": 2,
 "cells": [
  {
   "source": [
    "#### Write a Python Program to implement your own myreduce() function which works exactly like Python's built-in function reduce()"
   ],
   "cell_type": "markdown",
   "metadata": {}
  },
  {
   "cell_type": "code",
   "execution_count": 1,
   "metadata": {},
   "outputs": [],
   "source": [
    "def myreduce(func, seq): #accepts two arguements, a function and an iterator such as list or tuple.\n",
    "    res = seq[0] #this stores the first element to be passed to the func.\n",
    "\n",
    "    for i in seq[1:]:\n",
    "        res = func(res, i) #this is how you pass 2 variables to a function from an iterator.\n",
    "\n",
    "    return res"
   ]
  },
  {
   "cell_type": "code",
   "execution_count": 5,
   "metadata": {},
   "outputs": [
    {
     "output_type": "stream",
     "name": "stdout",
     "text": [
      "25\n"
     ]
    }
   ],
   "source": [
    "#execution of myreduce()\n",
    "l = [1,3,5,7,9]\n",
    "print(myreduce(lambda a,b:a+b, l))\n",
    "\n",
    "# comparing it with the inbuilt reduce function\n",
    "from functools import reduce\n",
    "assert myreduce(lambda a,b:a+b, l) == reduce(lambda a,b:a+b, l) #no error when the condition is satisfied."
   ]
  },
  {
   "source": [
    "#### Write a Python program to implement your own myfilter() function which works exactly like Python's built-in function filter()"
   ],
   "cell_type": "markdown",
   "metadata": {}
  },
  {
   "cell_type": "code",
   "execution_count": 6,
   "metadata": {},
   "outputs": [],
   "source": [
    "def myfilter(func, seq):\n",
    "    res = [] #initializing an empty list to hold the result\n",
    "\n",
    "    for i in seq:\n",
    "        if func(i):\n",
    "            res.append(i)\n",
    "    return res\n"
   ]
  },
  {
   "cell_type": "code",
   "execution_count": 11,
   "metadata": {},
   "outputs": [
    {
     "output_type": "stream",
     "name": "stdout",
     "text": [
      "[5, 7, 9]\n"
     ]
    }
   ],
   "source": [
    "#execution of myfilter()\n",
    "print(myfilter(lambda x: x>=5, l))\n",
    "\n",
    "# comparing it with the inbuilt filter function\n",
    "assert myfilter(lambda x: x>=5, l) == list(filter(lambda x: x>=5, l)) #have to wrap it in a list as filter func returns a filter object from the memory."
   ]
  },
  {
   "source": [
    "#### Write List comprehensions to produce the following Lists"
   ],
   "cell_type": "markdown",
   "metadata": {}
  },
  {
   "cell_type": "code",
   "execution_count": 15,
   "metadata": {},
   "outputs": [
    {
     "output_type": "stream",
     "name": "stdout",
     "text": [
      "['x', 'xx', 'xxx', 'xxxx', 'y', 'yy', 'yyy', 'yyyy', 'z', 'zz', 'zzz', 'zzzz']\n['x', 'y', 'z', 'xx', 'yy', 'zz', 'xxx', 'yyy', 'zzz', 'xxxx', 'yyyy', 'zzzz']\n[[2], [3], [4], [3], [4], [5], [4], [5], [6]]\n[[2, 3, 4, 5], [3, 4, 5, 6], [4, 5, 6, 7], [5, 6, 7, 8]]\n[(1, 1), (2, 1), (3, 1), (1, 2), (2, 2), (3, 2), (1, 3), (2, 3), (3, 3)]\n"
     ]
    }
   ],
   "source": [
    "# ['x', 'xx', 'xxx', 'xxxx', 'y', 'yy', 'yyy', 'yyyy', 'z', 'zz', 'zzz', 'zzzz']\n",
    "\n",
    "w1 = list('xyz')\n",
    "l_comp1 = [i*n for i in w1 for n in range(1,5)]\n",
    "print(l_comp1)\n",
    "\n",
    "#['x', 'y', 'z', 'xx', 'yy', 'zz', 'xxx', 'yyy', 'zzz', 'xxxx', 'yyyy', 'zzzz']\n",
    "l_comp2 = [i*n for n in range(1,5) for i in w1]\n",
    "print(l_comp2)\n",
    "\n",
    "#[[2], [3], [4], [3], [4], [5], [4], [5], [6]] \n",
    "nums1 = [2,3,4]\n",
    "l_comp3 = [[i+n] for n in range(0,3) for i in nums1]\n",
    "print(l_comp3)\n",
    "\n",
    "#[[2, 3, 4, 5], [3, 4, 5, 6], [4, 5, 6, 7], [5, 6, 7, 8]]\n",
    "nums2 = [2,3,4,5]\n",
    "l_comp4 = [[x+n for n in range(0,4)] for x in nums2]\n",
    "print(l_comp4)\n",
    "\n",
    "#[(1, 1), (2, 1), (3, 1), (1, 2), (2, 2), (3, 2), (1, 3), (2, 3), (3, 3)]\n",
    "nums3 = [1,2,3]\n",
    "l_comp5 = [(b,a) for a in nums3 for b in nums3]\n",
    "print(l_comp5)"
   ]
  },
  {
   "cell_type": "code",
   "execution_count": null,
   "metadata": {},
   "outputs": [],
   "source": []
  }
 ]
}